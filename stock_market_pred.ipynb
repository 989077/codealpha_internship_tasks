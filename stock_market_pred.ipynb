{
 "cells": [
  {
   "cell_type": "code",
   "execution_count": 28,
   "id": "820d93a9-4338-41d6-81e8-62e644d274c4",
   "metadata": {},
   "outputs": [],
   "source": [
    "import numpy as np\n",
    "import pandas as pd\n",
    "import matplotlib.pyplot as plt\n",
    "from sklearn.preprocessing import MinMaxScaler\n",
    "from tensorflow.keras.models import Sequential\n",
    "from tensorflow.keras.layers import LSTM, Dense"
   ]
  },
  {
   "cell_type": "code",
   "execution_count": 30,
   "id": "623fc2e4-2738-4a1b-a7e2-70f9d886ff18",
   "metadata": {},
   "outputs": [],
   "source": [
    "data = pd.read_csv('NIFTY 50-28-12-2023-to-28-12-2024.csv')  # Your stock data\n"
   ]
  },
  {
   "cell_type": "code",
   "execution_count": 32,
   "id": "9a2c3a6f-6dc3-44bf-9a3e-b8533d81a88d",
   "metadata": {},
   "outputs": [
    {
     "data": {
      "text/html": [
       "<div>\n",
       "<style scoped>\n",
       "    .dataframe tbody tr th:only-of-type {\n",
       "        vertical-align: middle;\n",
       "    }\n",
       "\n",
       "    .dataframe tbody tr th {\n",
       "        vertical-align: top;\n",
       "    }\n",
       "\n",
       "    .dataframe thead th {\n",
       "        text-align: right;\n",
       "    }\n",
       "</style>\n",
       "<table border=\"1\" class=\"dataframe\">\n",
       "  <thead>\n",
       "    <tr style=\"text-align: right;\">\n",
       "      <th></th>\n",
       "      <th>Date</th>\n",
       "      <th>Open</th>\n",
       "      <th>High</th>\n",
       "      <th>Low</th>\n",
       "      <th>Close</th>\n",
       "      <th>Shares Traded</th>\n",
       "      <th>Turnover (₹ Cr)</th>\n",
       "    </tr>\n",
       "  </thead>\n",
       "  <tbody>\n",
       "    <tr>\n",
       "      <th>0</th>\n",
       "      <td>28-DEC-2023</td>\n",
       "      <td>21715.00</td>\n",
       "      <td>21801.45</td>\n",
       "      <td>21678.00</td>\n",
       "      <td>21778.70</td>\n",
       "      <td>393080755.0</td>\n",
       "      <td>35031.00</td>\n",
       "    </tr>\n",
       "    <tr>\n",
       "      <th>1</th>\n",
       "      <td>29-DEC-2023</td>\n",
       "      <td>21737.65</td>\n",
       "      <td>21770.30</td>\n",
       "      <td>21676.90</td>\n",
       "      <td>21731.40</td>\n",
       "      <td>270922276.0</td>\n",
       "      <td>23697.88</td>\n",
       "    </tr>\n",
       "    <tr>\n",
       "      <th>2</th>\n",
       "      <td>01-JAN-2024</td>\n",
       "      <td>21727.75</td>\n",
       "      <td>21834.35</td>\n",
       "      <td>21680.85</td>\n",
       "      <td>21741.90</td>\n",
       "      <td>153995217.0</td>\n",
       "      <td>14184.09</td>\n",
       "    </tr>\n",
       "    <tr>\n",
       "      <th>3</th>\n",
       "      <td>02-JAN-2024</td>\n",
       "      <td>21751.35</td>\n",
       "      <td>21755.60</td>\n",
       "      <td>21555.65</td>\n",
       "      <td>21665.80</td>\n",
       "      <td>263711568.0</td>\n",
       "      <td>25316.13</td>\n",
       "    </tr>\n",
       "    <tr>\n",
       "      <th>4</th>\n",
       "      <td>03-JAN-2024</td>\n",
       "      <td>21661.10</td>\n",
       "      <td>21677.00</td>\n",
       "      <td>21500.35</td>\n",
       "      <td>21517.35</td>\n",
       "      <td>311933117.0</td>\n",
       "      <td>32329.23</td>\n",
       "    </tr>\n",
       "  </tbody>\n",
       "</table>\n",
       "</div>"
      ],
      "text/plain": [
       "         Date      Open      High       Low     Close   Shares Traded   \\\n",
       "0  28-DEC-2023  21715.00  21801.45  21678.00  21778.70     393080755.0   \n",
       "1  29-DEC-2023  21737.65  21770.30  21676.90  21731.40     270922276.0   \n",
       "2  01-JAN-2024  21727.75  21834.35  21680.85  21741.90     153995217.0   \n",
       "3  02-JAN-2024  21751.35  21755.60  21555.65  21665.80     263711568.0   \n",
       "4  03-JAN-2024  21661.10  21677.00  21500.35  21517.35     311933117.0   \n",
       "\n",
       "   Turnover (₹ Cr)  \n",
       "0         35031.00  \n",
       "1         23697.88  \n",
       "2         14184.09  \n",
       "3         25316.13  \n",
       "4         32329.23  "
      ]
     },
     "execution_count": 32,
     "metadata": {},
     "output_type": "execute_result"
    }
   ],
   "source": [
    "data.head()"
   ]
  },
  {
   "cell_type": "code",
   "execution_count": 86,
   "id": "98e79139-fd53-4615-8404-656e44252be1",
   "metadata": {},
   "outputs": [],
   "source": [
    "data.columns = data.columns.str.strip()\n",
    "data['Close'] = data['Close'].values.reshape(-1, 1)\n"
   ]
  },
  {
   "cell_type": "code",
   "execution_count": 88,
   "id": "0811fd76-ab24-4c94-a2be-e38aeaf62f51",
   "metadata": {},
   "outputs": [],
   "source": [
    "scaler = MinMaxScaler(feature_range=(0, 1))\n",
    "data_scaled = scaler.fit_transform(data)\n"
   ]
  },
  {
   "cell_type": "code",
   "execution_count": 84,
   "id": "f0711952-85bc-47e8-8bcf-583dd7e2e90e",
   "metadata": {},
   "outputs": [
    {
     "data": {
      "text/html": [
       "<div>\n",
       "<style scoped>\n",
       "    .dataframe tbody tr th:only-of-type {\n",
       "        vertical-align: middle;\n",
       "    }\n",
       "\n",
       "    .dataframe tbody tr th {\n",
       "        vertical-align: top;\n",
       "    }\n",
       "\n",
       "    .dataframe thead th {\n",
       "        text-align: right;\n",
       "    }\n",
       "</style>\n",
       "<table border=\"1\" class=\"dataframe\">\n",
       "  <thead>\n",
       "    <tr style=\"text-align: right;\">\n",
       "      <th></th>\n",
       "      <th>Open</th>\n",
       "      <th>High</th>\n",
       "      <th>Low</th>\n",
       "      <th>Close</th>\n",
       "      <th>Shares Traded</th>\n",
       "      <th>Turnover (₹ Cr)</th>\n",
       "    </tr>\n",
       "  </thead>\n",
       "  <tbody>\n",
       "    <tr>\n",
       "      <th>0</th>\n",
       "      <td>21715.00</td>\n",
       "      <td>21801.45</td>\n",
       "      <td>21678.00</td>\n",
       "      <td>21778.70</td>\n",
       "      <td>393080755.0</td>\n",
       "      <td>35031.00</td>\n",
       "    </tr>\n",
       "    <tr>\n",
       "      <th>1</th>\n",
       "      <td>21737.65</td>\n",
       "      <td>21770.30</td>\n",
       "      <td>21676.90</td>\n",
       "      <td>21731.40</td>\n",
       "      <td>270922276.0</td>\n",
       "      <td>23697.88</td>\n",
       "    </tr>\n",
       "    <tr>\n",
       "      <th>2</th>\n",
       "      <td>21727.75</td>\n",
       "      <td>21834.35</td>\n",
       "      <td>21680.85</td>\n",
       "      <td>21741.90</td>\n",
       "      <td>153995217.0</td>\n",
       "      <td>14184.09</td>\n",
       "    </tr>\n",
       "    <tr>\n",
       "      <th>3</th>\n",
       "      <td>21751.35</td>\n",
       "      <td>21755.60</td>\n",
       "      <td>21555.65</td>\n",
       "      <td>21665.80</td>\n",
       "      <td>263711568.0</td>\n",
       "      <td>25316.13</td>\n",
       "    </tr>\n",
       "    <tr>\n",
       "      <th>4</th>\n",
       "      <td>21661.10</td>\n",
       "      <td>21677.00</td>\n",
       "      <td>21500.35</td>\n",
       "      <td>21517.35</td>\n",
       "      <td>311933117.0</td>\n",
       "      <td>32329.23</td>\n",
       "    </tr>\n",
       "    <tr>\n",
       "      <th>...</th>\n",
       "      <td>...</td>\n",
       "      <td>...</td>\n",
       "      <td>...</td>\n",
       "      <td>...</td>\n",
       "      <td>...</td>\n",
       "      <td>...</td>\n",
       "    </tr>\n",
       "    <tr>\n",
       "      <th>244</th>\n",
       "      <td>23960.70</td>\n",
       "      <td>24065.80</td>\n",
       "      <td>23537.35</td>\n",
       "      <td>23587.50</td>\n",
       "      <td>442714411.0</td>\n",
       "      <td>47084.68</td>\n",
       "    </tr>\n",
       "    <tr>\n",
       "      <th>245</th>\n",
       "      <td>23738.20</td>\n",
       "      <td>23869.55</td>\n",
       "      <td>23647.20</td>\n",
       "      <td>23753.45</td>\n",
       "      <td>189758237.0</td>\n",
       "      <td>18243.28</td>\n",
       "    </tr>\n",
       "    <tr>\n",
       "      <th>246</th>\n",
       "      <td>23769.10</td>\n",
       "      <td>23867.65</td>\n",
       "      <td>23685.15</td>\n",
       "      <td>23727.65</td>\n",
       "      <td>177664746.0</td>\n",
       "      <td>16010.71</td>\n",
       "    </tr>\n",
       "    <tr>\n",
       "      <th>247</th>\n",
       "      <td>23775.80</td>\n",
       "      <td>23854.50</td>\n",
       "      <td>23653.60</td>\n",
       "      <td>23750.20</td>\n",
       "      <td>177681783.0</td>\n",
       "      <td>16695.10</td>\n",
       "    </tr>\n",
       "    <tr>\n",
       "      <th>248</th>\n",
       "      <td>23801.40</td>\n",
       "      <td>23938.85</td>\n",
       "      <td>23800.60</td>\n",
       "      <td>23813.40</td>\n",
       "      <td>176821521.0</td>\n",
       "      <td>17164.99</td>\n",
       "    </tr>\n",
       "  </tbody>\n",
       "</table>\n",
       "<p>249 rows × 6 columns</p>\n",
       "</div>"
      ],
      "text/plain": [
       "         Open      High       Low     Close  Shares Traded  Turnover (₹ Cr)\n",
       "0    21715.00  21801.45  21678.00  21778.70    393080755.0         35031.00\n",
       "1    21737.65  21770.30  21676.90  21731.40    270922276.0         23697.88\n",
       "2    21727.75  21834.35  21680.85  21741.90    153995217.0         14184.09\n",
       "3    21751.35  21755.60  21555.65  21665.80    263711568.0         25316.13\n",
       "4    21661.10  21677.00  21500.35  21517.35    311933117.0         32329.23\n",
       "..        ...       ...       ...       ...            ...              ...\n",
       "244  23960.70  24065.80  23537.35  23587.50    442714411.0         47084.68\n",
       "245  23738.20  23869.55  23647.20  23753.45    189758237.0         18243.28\n",
       "246  23769.10  23867.65  23685.15  23727.65    177664746.0         16010.71\n",
       "247  23775.80  23854.50  23653.60  23750.20    177681783.0         16695.10\n",
       "248  23801.40  23938.85  23800.60  23813.40    176821521.0         17164.99\n",
       "\n",
       "[249 rows x 6 columns]"
      ]
     },
     "execution_count": 84,
     "metadata": {},
     "output_type": "execute_result"
    }
   ],
   "source": [
    "data"
   ]
  },
  {
   "cell_type": "code",
   "execution_count": 60,
   "id": "9084f656-fb40-4a1e-96c3-838ac97f0bb0",
   "metadata": {},
   "outputs": [],
   "source": [
    "# Normalize the data\n",
    "scaler = MinMaxScaler(feature_range=(0, 1))\n",
    "data_scaled = scaler.fit_transform(data)"
   ]
  },
  {
   "cell_type": "code",
   "execution_count": 68,
   "id": "3403e87d-219b-4d02-9355-435ae009c657",
   "metadata": {},
   "outputs": [],
   "source": [
    "# Prepare data for LSTM\n",
    "def prepare_data(data, time_step=60):\n",
    "    x, y = [], []\n",
    "    for i in range(len(data) - time_step - 1):\n",
    "        x.append(data[i:i + time_step, 0])\n",
    "        y.append(data[i + time_step, 0])\n",
    "    return np.array(x), np.array(y)\n",
    "\n",
    "x, y = prepare_data(data_scaled)"
   ]
  },
  {
   "cell_type": "code",
   "execution_count": 80,
   "id": "fc184b5c-c635-4734-9e4f-a6d18331693e",
   "metadata": {},
   "outputs": [],
   "source": [
    "data.columns = data.columns.str.strip()\n",
    "data.columns = data.columns.str.strip()\n"
   ]
  },
  {
   "cell_type": "code",
   "execution_count": 95,
   "id": "72f69706-08cb-45c6-a763-e8c4fca4aebe",
   "metadata": {},
   "outputs": [],
   "source": [
    "# Reshape for LSTM [samples, time_step, features]\n",
    "x = x.reshape(x.shape[0], x.shape[1], 1)\n"
   ]
  },
  {
   "cell_type": "code",
   "execution_count": 97,
   "id": "dc2b930f-256f-4c1d-8cbe-d1307f17bf9a",
   "metadata": {},
   "outputs": [],
   "source": [
    "# Split into training and test sets\n",
    "train_size = int(len(x) * 0.8)\n",
    "x_train, x_test = x[:train_size], x[train_size:]\n",
    "y_train, y_test = y[:train_size], y[train_size:]"
   ]
  },
  {
   "cell_type": "code",
   "execution_count": 99,
   "id": "577e2942-f965-4e25-bc50-698df959400c",
   "metadata": {},
   "outputs": [
    {
     "name": "stderr",
     "output_type": "stream",
     "text": [
      "C:\\Users\\om\\anaconda3\\Lib\\site-packages\\keras\\src\\layers\\rnn\\rnn.py:204: UserWarning: Do not pass an `input_shape`/`input_dim` argument to a layer. When using Sequential models, prefer using an `Input(shape)` object as the first layer in the model instead.\n",
      "  super().__init__(**kwargs)\n"
     ]
    }
   ],
   "source": [
    "# Build LSTM Model\n",
    "model = Sequential()\n",
    "model.add(LSTM(units=50, return_sequences=True, input_shape=(x_train.shape[1], 1)))\n",
    "model.add(LSTM(units=50, return_sequences=False))\n",
    "model.add(Dense(units=1))\n",
    "model.compile(optimizer='adam', loss='mean_squared_error')"
   ]
  },
  {
   "cell_type": "code",
   "execution_count": 107,
   "id": "676e2acc-3788-407d-808a-f49b2c28600a",
   "metadata": {},
   "outputs": [
    {
     "name": "stdout",
     "output_type": "stream",
     "text": [
      "Epoch 1/10\n",
      "\u001b[1m5/5\u001b[0m \u001b[32m━━━━━━━━━━━━━━━━━━━━\u001b[0m\u001b[37m\u001b[0m \u001b[1m0s\u001b[0m 31ms/step - loss: 0.0064\n",
      "Epoch 2/10\n",
      "\u001b[1m5/5\u001b[0m \u001b[32m━━━━━━━━━━━━━━━━━━━━\u001b[0m\u001b[37m\u001b[0m \u001b[1m0s\u001b[0m 32ms/step - loss: 0.0059\n",
      "Epoch 3/10\n",
      "\u001b[1m5/5\u001b[0m \u001b[32m━━━━━━━━━━━━━━━━━━━━\u001b[0m\u001b[37m\u001b[0m \u001b[1m0s\u001b[0m 34ms/step - loss: 0.0053\n",
      "Epoch 4/10\n",
      "\u001b[1m5/5\u001b[0m \u001b[32m━━━━━━━━━━━━━━━━━━━━\u001b[0m\u001b[37m\u001b[0m \u001b[1m0s\u001b[0m 28ms/step - loss: 0.0058\n",
      "Epoch 5/10\n",
      "\u001b[1m5/5\u001b[0m \u001b[32m━━━━━━━━━━━━━━━━━━━━\u001b[0m\u001b[37m\u001b[0m \u001b[1m0s\u001b[0m 33ms/step - loss: 0.0052\n",
      "Epoch 6/10\n",
      "\u001b[1m5/5\u001b[0m \u001b[32m━━━━━━━━━━━━━━━━━━━━\u001b[0m\u001b[37m\u001b[0m \u001b[1m0s\u001b[0m 33ms/step - loss: 0.0049\n",
      "Epoch 7/10\n",
      "\u001b[1m5/5\u001b[0m \u001b[32m━━━━━━━━━━━━━━━━━━━━\u001b[0m\u001b[37m\u001b[0m \u001b[1m0s\u001b[0m 28ms/step - loss: 0.0055\n",
      "Epoch 8/10\n",
      "\u001b[1m5/5\u001b[0m \u001b[32m━━━━━━━━━━━━━━━━━━━━\u001b[0m\u001b[37m\u001b[0m \u001b[1m0s\u001b[0m 34ms/step - loss: 0.0053\n",
      "Epoch 9/10\n",
      "\u001b[1m5/5\u001b[0m \u001b[32m━━━━━━━━━━━━━━━━━━━━\u001b[0m\u001b[37m\u001b[0m \u001b[1m0s\u001b[0m 28ms/step - loss: 0.0056\n",
      "Epoch 10/10\n",
      "\u001b[1m5/5\u001b[0m \u001b[32m━━━━━━━━━━━━━━━━━━━━\u001b[0m\u001b[37m\u001b[0m \u001b[1m0s\u001b[0m 31ms/step - loss: 0.0055\n"
     ]
    },
    {
     "data": {
      "text/plain": [
       "<keras.src.callbacks.history.History at 0x1681fb681d0>"
      ]
     },
     "execution_count": 107,
     "metadata": {},
     "output_type": "execute_result"
    }
   ],
   "source": [
    "# Train Model\n",
    "model.fit(x_train, y_train, epochs=10, batch_size=32)"
   ]
  },
  {
   "cell_type": "code",
   "execution_count": 109,
   "id": "f496a33f-6e06-47f3-b66f-e35d5922b514",
   "metadata": {},
   "outputs": [
    {
     "name": "stdout",
     "output_type": "stream",
     "text": [
      "\u001b[1m2/2\u001b[0m \u001b[32m━━━━━━━━━━━━━━━━━━━━\u001b[0m\u001b[37m\u001b[0m \u001b[1m0s\u001b[0m 7ms/step \n"
     ]
    }
   ],
   "source": [
    "scaler = MinMaxScaler(feature_range=(0, 1))\n",
    "scaler.fit(data[['Close']])  # Fit the scaler only on the 'Close' column, assuming that's the relevant feature\n",
    "predicted_stock_price = model.predict(x_test)\n",
    "predicted_stock_price = scaler.inverse_transform(predicted_stock_price)\n"
   ]
  },
  {
   "cell_type": "code",
   "execution_count": 111,
   "id": "120e3bab-5d71-4cdf-8ce7-58f82d7e2632",
   "metadata": {},
   "outputs": [
    {
     "name": "stdout",
     "output_type": "stream",
     "text": [
      "\u001b[1m2/2\u001b[0m \u001b[32m━━━━━━━━━━━━━━━━━━━━\u001b[0m\u001b[37m\u001b[0m \u001b[1m0s\u001b[0m 8ms/step \n"
     ]
    }
   ],
   "source": [
    "# Predictions\n",
    "predicted_stock_price = model.predict(x_test)\n",
    "predicted_stock_price = scaler.inverse_transform(predicted_stock_price)\n"
   ]
  },
  {
   "cell_type": "code",
   "execution_count": 115,
   "id": "ba8c6e0a-34b9-4ac0-8f8b-2fa3077959e9",
   "metadata": {},
   "outputs": [
    {
     "data": {
      "image/png": "[encoded data removed]",
      "text/plain": [
       "<Figure size 640x480 with 1 Axes>"
      ]
     },
     "metadata": {},
     "output_type": "display_data"
    }
   ],
   "source": [
    "# Visualize the Results\n",
    "plt.plot(data[-len(y_test):], label='Real Stock Price')\n",
    "plt.plot(predicted_stock_price, label='Predicted Stock Price')\n",
    "plt.legend()\n",
    "plt.show()"
   ]
  },
  {
   "cell_type": "code",
   "execution_count": 123,
   "id": "3413563e-e5ae-47b9-9749-c0e481e52389",
   "metadata": {},
   "outputs": [
    {
     "name": "stdout",
     "output_type": "stream",
     "text": [
      "Date               0\n",
      "Open               0\n",
      "High               0\n",
      "Low                0\n",
      "Close              0\n",
      "Shares Traded      0\n",
      "Turnover (₹ Cr)    0\n",
      "dtype: int64\n",
      "         Date      Open      High       Low     Close   Shares Traded   \\\n",
      "0  28-DEC-2023  21715.00  21801.45  21678.00  21778.70     393080755.0   \n",
      "1  29-DEC-2023  21737.65  21770.30  21676.90  21731.40     270922276.0   \n",
      "2  01-JAN-2024  21727.75  21834.35  21680.85  21741.90     153995217.0   \n",
      "3  02-JAN-2024  21751.35  21755.60  21555.65  21665.80     263711568.0   \n",
      "4  03-JAN-2024  21661.10  21677.00  21500.35  21517.35     311933117.0   \n",
      "\n",
      "   Turnover (₹ Cr)  \n",
      "0         35031.00  \n",
      "1         23697.88  \n",
      "2         14184.09  \n",
      "3         25316.13  \n",
      "4         32329.23  \n"
     ]
    }
   ],
   "source": [
    "\n",
    "# Check for missing values\n",
    "print(df.isnull().sum())\n",
    "\n",
    "# Drop rows with missing values (if any)\n",
    "df.dropna(inplace=True)\n",
    "\n",
    "# Display the updated dataframe\n",
    "print(df.head())\n"
   ]
  },
  {
   "cell_type": "code",
   "execution_count": 125,
   "id": "31819f15-c488-413e-bf7a-22e60fffe94a",
   "metadata": {},
   "outputs": [
    {
     "data": {
      "text/html": [
       "<div>\n",
       "<style scoped>\n",
       "    .dataframe tbody tr th:only-of-type {\n",
       "        vertical-align: middle;\n",
       "    }\n",
       "\n",
       "    .dataframe tbody tr th {\n",
       "        vertical-align: top;\n",
       "    }\n",
       "\n",
       "    .dataframe thead th {\n",
       "        text-align: right;\n",
       "    }\n",
       "</style>\n",
       "<table border=\"1\" class=\"dataframe\">\n",
       "  <thead>\n",
       "    <tr style=\"text-align: right;\">\n",
       "      <th></th>\n",
       "      <th>Open</th>\n",
       "      <th>High</th>\n",
       "      <th>Low</th>\n",
       "      <th>Close</th>\n",
       "      <th>Shares Traded</th>\n",
       "      <th>Turnover (₹ Cr)</th>\n",
       "    </tr>\n",
       "  </thead>\n",
       "  <tbody>\n",
       "    <tr>\n",
       "      <th>0</th>\n",
       "      <td>21715.00</td>\n",
       "      <td>21801.45</td>\n",
       "      <td>21678.00</td>\n",
       "      <td>21778.70</td>\n",
       "      <td>393080755.0</td>\n",
       "      <td>35031.00</td>\n",
       "    </tr>\n",
       "    <tr>\n",
       "      <th>1</th>\n",
       "      <td>21737.65</td>\n",
       "      <td>21770.30</td>\n",
       "      <td>21676.90</td>\n",
       "      <td>21731.40</td>\n",
       "      <td>270922276.0</td>\n",
       "      <td>23697.88</td>\n",
       "    </tr>\n",
       "    <tr>\n",
       "      <th>2</th>\n",
       "      <td>21727.75</td>\n",
       "      <td>21834.35</td>\n",
       "      <td>21680.85</td>\n",
       "      <td>21741.90</td>\n",
       "      <td>153995217.0</td>\n",
       "      <td>14184.09</td>\n",
       "    </tr>\n",
       "    <tr>\n",
       "      <th>3</th>\n",
       "      <td>21751.35</td>\n",
       "      <td>21755.60</td>\n",
       "      <td>21555.65</td>\n",
       "      <td>21665.80</td>\n",
       "      <td>263711568.0</td>\n",
       "      <td>25316.13</td>\n",
       "    </tr>\n",
       "    <tr>\n",
       "      <th>4</th>\n",
       "      <td>21661.10</td>\n",
       "      <td>21677.00</td>\n",
       "      <td>21500.35</td>\n",
       "      <td>21517.35</td>\n",
       "      <td>311933117.0</td>\n",
       "      <td>32329.23</td>\n",
       "    </tr>\n",
       "  </tbody>\n",
       "</table>\n",
       "</div>"
      ],
      "text/plain": [
       "       Open      High       Low     Close  Shares Traded  Turnover (₹ Cr)\n",
       "0  21715.00  21801.45  21678.00  21778.70    393080755.0         35031.00\n",
       "1  21737.65  21770.30  21676.90  21731.40    270922276.0         23697.88\n",
       "2  21727.75  21834.35  21680.85  21741.90    153995217.0         14184.09\n",
       "3  21751.35  21755.60  21555.65  21665.80    263711568.0         25316.13\n",
       "4  21661.10  21677.00  21500.35  21517.35    311933117.0         32329.23"
      ]
     },
     "execution_count": 125,
     "metadata": {},
     "output_type": "execute_result"
    }
   ],
   "source": [
    "data.head()"
   ]
  },
  {
   "cell_type": "code",
   "execution_count": 129,
   "id": "4cf3bcba-93d5-44ce-b335-2c3eea1200fd",
   "metadata": {},
   "outputs": [
    {
     "ename": "KeyError",
     "evalue": "'Close'",
     "output_type": "error",
     "traceback": [
      "\u001b[1;31m---------------------------------------------------------------------------\u001b[0m",
      "\u001b[1;31mKeyError\u001b[0m                                  Traceback (most recent call last)",
      "File \u001b[1;32m~\\anaconda3\\Lib\\site-packages\\pandas\\core\\indexes\\base.py:3805\u001b[0m, in \u001b[0;36mIndex.get_loc\u001b[1;34m(self, key)\u001b[0m\n\u001b[0;32m   3804\u001b[0m \u001b[38;5;28;01mtry\u001b[39;00m:\n\u001b[1;32m-> 3805\u001b[0m     \u001b[38;5;28;01mreturn\u001b[39;00m \u001b[38;5;28mself\u001b[39m\u001b[38;5;241m.\u001b[39m_engine\u001b[38;5;241m.\u001b[39mget_loc(casted_key)\n\u001b[0;32m   3806\u001b[0m \u001b[38;5;28;01mexcept\u001b[39;00m \u001b[38;5;167;01mKeyError\u001b[39;00m \u001b[38;5;28;01mas\u001b[39;00m err:\n",
      "File \u001b[1;32mindex.pyx:167\u001b[0m, in \u001b[0;36mpandas._libs.index.IndexEngine.get_loc\u001b[1;34m()\u001b[0m\n",
      "File \u001b[1;32mindex.pyx:196\u001b[0m, in \u001b[0;36mpandas._libs.index.IndexEngine.get_loc\u001b[1;34m()\u001b[0m\n",
      "File \u001b[1;32mpandas\\\\_libs\\\\hashtable_class_helper.pxi:7081\u001b[0m, in \u001b[0;36mpandas._libs.hashtable.PyObjectHashTable.get_item\u001b[1;34m()\u001b[0m\n",
      "File \u001b[1;32mpandas\\\\_libs\\\\hashtable_class_helper.pxi:7089\u001b[0m, in \u001b[0;36mpandas._libs.hashtable.PyObjectHashTable.get_item\u001b[1;34m()\u001b[0m\n",
      "\u001b[1;31mKeyError\u001b[0m: 'Close'",
      "\nThe above exception was the direct cause of the following exception:\n",
      "\u001b[1;31mKeyError\u001b[0m                                  Traceback (most recent call last)",
      "Cell \u001b[1;32mIn[129], line 2\u001b[0m\n\u001b[0;32m      1\u001b[0m \u001b[38;5;66;03m# Calculate moving averages (SMA, EMA)\u001b[39;00m\n\u001b[1;32m----> 2\u001b[0m df[\u001b[38;5;124m'\u001b[39m\u001b[38;5;124mSMA_50\u001b[39m\u001b[38;5;124m'\u001b[39m] \u001b[38;5;241m=\u001b[39m df[\u001b[38;5;124m'\u001b[39m\u001b[38;5;124mClose\u001b[39m\u001b[38;5;124m'\u001b[39m]\u001b[38;5;241m.\u001b[39mrolling(window\u001b[38;5;241m=\u001b[39m\u001b[38;5;241m50\u001b[39m)\u001b[38;5;241m.\u001b[39mmean()\n\u001b[0;32m      3\u001b[0m df[\u001b[38;5;124m'\u001b[39m\u001b[38;5;124mSMA_200\u001b[39m\u001b[38;5;124m'\u001b[39m] \u001b[38;5;241m=\u001b[39m df[\u001b[38;5;124m'\u001b[39m\u001b[38;5;124mClose\u001b[39m\u001b[38;5;124m'\u001b[39m]\u001b[38;5;241m.\u001b[39mrolling(window\u001b[38;5;241m=\u001b[39m\u001b[38;5;241m200\u001b[39m)\u001b[38;5;241m.\u001b[39mmean()\n\u001b[0;32m      4\u001b[0m df[\u001b[38;5;124m'\u001b[39m\u001b[38;5;124mEMA_20\u001b[39m\u001b[38;5;124m'\u001b[39m] \u001b[38;5;241m=\u001b[39m df[\u001b[38;5;124m'\u001b[39m\u001b[38;5;124mClose\u001b[39m\u001b[38;5;124m'\u001b[39m]\u001b[38;5;241m.\u001b[39mewm(span\u001b[38;5;241m=\u001b[39m\u001b[38;5;241m20\u001b[39m, adjust\u001b[38;5;241m=\u001b[39m\u001b[38;5;28;01mFalse\u001b[39;00m)\u001b[38;5;241m.\u001b[39mmean()\n",
      "File \u001b[1;32m~\\anaconda3\\Lib\\site-packages\\pandas\\core\\frame.py:4102\u001b[0m, in \u001b[0;36mDataFrame.__getitem__\u001b[1;34m(self, key)\u001b[0m\n\u001b[0;32m   4100\u001b[0m \u001b[38;5;28;01mif\u001b[39;00m \u001b[38;5;28mself\u001b[39m\u001b[38;5;241m.\u001b[39mcolumns\u001b[38;5;241m.\u001b[39mnlevels \u001b[38;5;241m>\u001b[39m \u001b[38;5;241m1\u001b[39m:\n\u001b[0;32m   4101\u001b[0m     \u001b[38;5;28;01mreturn\u001b[39;00m \u001b[38;5;28mself\u001b[39m\u001b[38;5;241m.\u001b[39m_getitem_multilevel(key)\n\u001b[1;32m-> 4102\u001b[0m indexer \u001b[38;5;241m=\u001b[39m \u001b[38;5;28mself\u001b[39m\u001b[38;5;241m.\u001b[39mcolumns\u001b[38;5;241m.\u001b[39mget_loc(key)\n\u001b[0;32m   4103\u001b[0m \u001b[38;5;28;01mif\u001b[39;00m is_integer(indexer):\n\u001b[0;32m   4104\u001b[0m     indexer \u001b[38;5;241m=\u001b[39m [indexer]\n",
      "File \u001b[1;32m~\\anaconda3\\Lib\\site-packages\\pandas\\core\\indexes\\base.py:3812\u001b[0m, in \u001b[0;36mIndex.get_loc\u001b[1;34m(self, key)\u001b[0m\n\u001b[0;32m   3807\u001b[0m     \u001b[38;5;28;01mif\u001b[39;00m \u001b[38;5;28misinstance\u001b[39m(casted_key, \u001b[38;5;28mslice\u001b[39m) \u001b[38;5;129;01mor\u001b[39;00m (\n\u001b[0;32m   3808\u001b[0m         \u001b[38;5;28misinstance\u001b[39m(casted_key, abc\u001b[38;5;241m.\u001b[39mIterable)\n\u001b[0;32m   3809\u001b[0m         \u001b[38;5;129;01mand\u001b[39;00m \u001b[38;5;28many\u001b[39m(\u001b[38;5;28misinstance\u001b[39m(x, \u001b[38;5;28mslice\u001b[39m) \u001b[38;5;28;01mfor\u001b[39;00m x \u001b[38;5;129;01min\u001b[39;00m casted_key)\n\u001b[0;32m   3810\u001b[0m     ):\n\u001b[0;32m   3811\u001b[0m         \u001b[38;5;28;01mraise\u001b[39;00m InvalidIndexError(key)\n\u001b[1;32m-> 3812\u001b[0m     \u001b[38;5;28;01mraise\u001b[39;00m \u001b[38;5;167;01mKeyError\u001b[39;00m(key) \u001b[38;5;28;01mfrom\u001b[39;00m \u001b[38;5;21;01merr\u001b[39;00m\n\u001b[0;32m   3813\u001b[0m \u001b[38;5;28;01mexcept\u001b[39;00m \u001b[38;5;167;01mTypeError\u001b[39;00m:\n\u001b[0;32m   3814\u001b[0m     \u001b[38;5;66;03m# If we have a listlike key, _check_indexing_error will raise\u001b[39;00m\n\u001b[0;32m   3815\u001b[0m     \u001b[38;5;66;03m#  InvalidIndexError. Otherwise we fall through and re-raise\u001b[39;00m\n\u001b[0;32m   3816\u001b[0m     \u001b[38;5;66;03m#  the TypeError.\u001b[39;00m\n\u001b[0;32m   3817\u001b[0m     \u001b[38;5;28mself\u001b[39m\u001b[38;5;241m.\u001b[39m_check_indexing_error(key)\n",
      "\u001b[1;31mKeyError\u001b[0m: 'Close'"
     ]
    }
   ],
   "source": [
    "# Calculate moving averages (SMA, EMA)\n",
    "df['SMA_50'] = df['Close'].rolling(window=50).mean()\n",
    "df['SMA_200'] = df['Close'].rolling(window=200).mean()\n",
    "df['EMA_20'] = df['Close'].ewm(span=20, adjust=False).mean()\n",
    "\n",
    "# Calculate Relative Strength Index (RSI)\n",
    "def compute_rsi(data, window):\n",
    "    delta = data.diff()\n",
    "    gain = delta.where(delta > 0, 0)\n",
    "    loss = -delta.where(delta < 0, 0)\n",
    "    avg_gain = gain.rolling(window=window).mean()\n",
    "    avg_loss = loss.rolling(window=window).mean()\n",
    "    rs = avg_gain / avg_loss\n",
    "    return 100 - (100 / (1 + rs))\n",
    "\n",
    "df['RSI_14'] = compute_rsi(df['Close'], 14)\n",
    "\n",
    "# You can add more features like MACD, Bollinger Bands, etc.\n",
    "print(df.tail())\n"
   ]
  },
  {
   "cell_type": "code",
   "execution_count": null,
   "id": "7bc10dff-23f9-4037-9794-a7345fe1e918",
   "metadata": {},
   "outputs": [],
   "source": []
  }
 ],
 "metadata": {
  "kernelspec": {
   "display_name": "Python 3 (ipykernel)",
   "language": "python",
   "name": "python3"
  },
  "language_info": {
   "codemirror_mode": {
    "name": "ipython",
    "version": 3
   },
   "file_extension": ".py",
   "mimetype": "text/x-python",
   "name": "python",
   "nbconvert_exporter": "python",
   "pygments_lexer": "ipython3",
   "version": "3.12.4"
  }
 },
 "nbformat": 4,
 "nbformat_minor": 5
}
